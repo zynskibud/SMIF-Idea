{
 "cells": [
  {
   "cell_type": "code",
   "execution_count": 1,
   "metadata": {},
   "outputs": [],
   "source": [
    "import pandas as pd\n",
    "import numpy as np\n",
    "import yfinance as yf\n",
    "import math\n",
    "import statistics\n",
    "from scipy.stats import norm\n",
    "from IPython.display import display\n",
    "import matplotlib.pyplot as plt\n",
    "import seaborn\n",
    "import matplotlib.mlab as mlab\n",
    "import scipy"
   ]
  },
  {
   "cell_type": "code",
   "execution_count": 2,
   "metadata": {},
   "outputs": [],
   "source": [
    "#large VaR Engine Utilizng the Variance and Covariance Methods\n",
    "list_assets = [\"HSBC\", \"BCS\", \"LYG\", \"RBSPF\"]\n",
    "dict_assets = {}\n",
    "\n",
    "def data_grabber(tickers, assets):\n",
    "\n",
    "    for x in tickers:\n",
    "        try: \n",
    "            \n",
    "            ticker = yf.Ticker(x)\n",
    "            ticker_data = ticker.history(period = \"1y\", interval = \"1d\")\n",
    "            \n",
    "            if not ticker_data.empty:\n",
    "                assets[x] = ticker_data\n",
    "            else:\n",
    "                print(f\"The associated data for {x} is empty\")\n",
    "        except Exception as e:\n",
    "            print(f\"There was an error in fetching {x} data\")\n",
    "            \n",
    "    return assets\n",
    "\n",
    "def returns(dict_assets):\n",
    "    \n",
    "    for x in dict_assets:\n",
    "        df_common = dict_assets[x]    \n",
    "        df_common[\"Returns\"] = df_common[\"Close\"].pct_change()\n",
    "        df_common = df_common.dropna()        \n",
    "        dict_assets[x] = df_common\n",
    "        \n",
    "    return dict_assets\n",
    "\n",
    "def weights(dict_assets):\n",
    "    int_numb_assets = len(dict_assets.keys())\n",
    "    array_weights = np.random.dirichlet(np.ones(int_numb_assets),size=1)\n",
    "    array_weights = np.squeeze(array_weights)\n",
    "\n",
    "    counter = 0\n",
    "\n",
    "    for key in dict_assets:\n",
    "\n",
    "        df_common = dict_assets[key]\n",
    "        df_common[\"Weights\"] = array_weights[counter]\n",
    "        df_common = df_common.dropna()\n",
    "        dict_assets[key] = df_common\n",
    "        counter = counter + 1\n",
    "        \n",
    "    return dict_assets, array_weights\n",
    "\n",
    "def portfolio(dict_assets):\n",
    "    \n",
    "    df_portfolio = pd.concat(dict_assets.values(), axis = 1, keys=dict_assets.keys())\n",
    "    df_portfolio = df_portfolio.reset_index()\n",
    "    df_portfolio['Date'] = df_portfolio['Date'].dt.tz_convert('America/New_York').dt.tz_localize(None)\n",
    "\n",
    "    return df_portfolio\n",
    "    \n",
    "def portfolio_return(dict_assets, df_portfolio):\n",
    "    float_total = 0.0\n",
    "    \n",
    "    for x in dict_assets:\n",
    "        series_returns = df_portfolio[x, \"Returns\"]\n",
    "        float_total += series_returns\n",
    "        \n",
    "    series_portfolio_return = float_total/float(len(dict_assets))\n",
    "    df_portfolio[\"Portfolio Returns\"] = series_portfolio_return\n",
    "    \n",
    "    return df_portfolio, series_portfolio_return\n",
    "\n",
    "def plot_portfolio_returns(series_portfolio_return):\n",
    "    plt.hist(series_portfolio_return, bins=40)\n",
    "    plt.xlabel('Returns')\n",
    "    plt.ylabel('Frequency')\n",
    "    plt.grid(True)\n",
    "    plt.show()\n",
    "    \n",
    "def historical_VaR(series_portfolio_return):\n",
    "    list_confidence_interval = [0.90, 0.95, 0.975, 0.99]\n",
    "    dict_VaR = {}\n",
    "\n",
    "    for x in list_confidence_interval:\n",
    "        VaR = series_portfolio_return.quantile(1-x)\n",
    "        dict_VaR[x] = VaR\n",
    "        \n",
    "    return dict_VaR"
   ]
  },
  {
   "cell_type": "code",
   "execution_count": 3,
   "metadata": {},
   "outputs": [
    {
     "data": {
      "image/png": "[encoded data removed]",
      "text/plain": [
       "<Figure size 640x480 with 1 Axes>"
      ]
     },
     "metadata": {},
     "output_type": "display_data"
    },
    {
     "data": {
      "text/plain": [
       "{0.9: -0.01925986705730396,\n",
       " 0.95: -0.027809101348438236,\n",
       " 0.975: -0.034287851102981645,\n",
       " 0.99: -0.04127732176098487}"
      ]
     },
     "execution_count": 3,
     "metadata": {},
     "output_type": "execute_result"
    }
   ],
   "source": [
    "data_grabber(list_assets, dict_assets)\n",
    "returns(dict_assets)\n",
    "dict_assets, array_weights = weights(dict_assets)\n",
    "df_portfolio = portfolio(dict_assets)\n",
    "df_portfolio, series_portfolio_return = portfolio_return(dict_assets, df_portfolio)\n",
    "plot_portfolio_returns(series_portfolio_return)\n",
    "historical_VaR(series_portfolio_return)\n"
   ]
  },
  {
   "cell_type": "code",
   "execution_count": null,
   "metadata": {},
   "outputs": [],
   "source": []
  }
 ],
 "metadata": {
  "kernelspec": {
   "display_name": "Python 3",
   "language": "python",
   "name": "python3"
  },
  "language_info": {
   "codemirror_mode": {
    "name": "ipython",
    "version": 3
   },
   "file_extension": ".py",
   "mimetype": "text/x-python",
   "name": "python",
   "nbconvert_exporter": "python",
   "pygments_lexer": "ipython3",
   "version": "3.11.4"
  }
 },
 "nbformat": 4,
 "nbformat_minor": 2
}
