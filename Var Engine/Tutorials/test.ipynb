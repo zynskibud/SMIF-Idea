{
 "cells": [
  {
   "cell_type": "code",
   "execution_count": 1,
   "metadata": {},
   "outputs": [],
   "source": [
    "import pandas as pd\n",
    "import numpy as np\n",
    "import yfinance as yf\n",
    "import math\n",
    "import statistics\n",
    "from scipy.stats import norm, t\n",
    "from IPython.display import display\n",
    "import matplotlib.pyplot as plt\n",
    "import seaborn\n",
    "import matplotlib.mlab as mlab\n",
    "import scipy\n",
    "from datetime import datetime, timezone"
   ]
  },
  {
   "cell_type": "code",
   "execution_count": 2,
   "metadata": {},
   "outputs": [],
   "source": [
    "def hour_wiper(df):\n",
    "    \n",
    "    df = df.reset_index()\n",
    "    df[\"Date\"] = pd.to_datetime(df[\"Date\"]).dt.date\n",
    "    df = df.set_index('Date')\n",
    "    \n",
    "    return df\n",
    "\n",
    "def data_grabber(tickers, assets):\n",
    "    #Function designed to take any ticker and grab annual data\n",
    "    for x in tickers:\n",
    "        try: \n",
    "            \n",
    "            ticker = yf.Ticker(x)\n",
    "            ticker_data = ticker.history(period = \"1y\", interval = \"1d\")\n",
    "            ticker_data = hour_wiper(ticker_data)\n",
    "            if not ticker_data.empty:\n",
    "                assets[x] = ticker_data\n",
    "            else:\n",
    "                print(f\"The associated data for {x} is empty\")\n",
    "        except Exception as e:\n",
    "            print(f\"There was an error in fetching {x} data\")\n",
    "            \n",
    "    return assets\n"
   ]
  },
  {
   "cell_type": "code",
   "execution_count": null,
   "metadata": {},
   "outputs": [],
   "source": []
  }
 ],
 "metadata": {
  "kernelspec": {
   "display_name": "Python 3",
   "language": "python",
   "name": "python3"
  },
  "language_info": {
   "codemirror_mode": {
    "name": "ipython",
    "version": 3
   },
   "file_extension": ".py",
   "mimetype": "text/x-python",
   "name": "python",
   "nbconvert_exporter": "python",
   "pygments_lexer": "ipython3",
   "version": "3.11.4"
  }
 },
 "nbformat": 4,
 "nbformat_minor": 2
}
