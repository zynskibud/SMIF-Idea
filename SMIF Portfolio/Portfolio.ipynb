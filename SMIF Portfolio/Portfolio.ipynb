{
 "cells": [
  {
   "cell_type": "code",
   "execution_count": 1,
   "metadata": {},
   "outputs": [],
   "source": [
    "#dictionary of assets within the portfolio\n",
    "dict_assets = {\"990286916\": \"MLBank Deposit Program\", \"MMM\": \"3M Company\", \"ABT\": \"ABBOTT LABS\", \"ADBE\": \"ADOBE INC SHS\", \"AMT\": \"American Tower Inc\", \"AMGN\": \"Amgen Inc COM\", \"AAPL\": \"Apple Inc\", \"AZPN\": \"Aspen Tech INC\", \"BHVN\": \"Biohaven\", \"BXC\": \"BlueLink Holdings INC SHS\", \"BMY\": \"Bristol-Myers Squibb CO\", \"BEPC\": \"Brookfield Renewable Corp EXCH RE CLA\", \"CP\": \"Canadian PAC Kans City LTD\", \"CSCO\": \"Cisco Systems INC COM\", \"C\": \"Citigroup INC COM NEW\", \"XLY\": \"Consumer Discretionary SPDR\", \"DIS\": \"Disney (Walt) CO COM STK\", \"EQIX\": \"Equinix Ince\", \"GM\": \"General Motors Co Common Shares\", \"THRM\": \"Gentherm INC\", \"GS\": \"Goldman Sachs Group INC\", \"GPRE\": \"Green Plains INC Energy INC\", \"HII\": \"Huntingon Ingalls INDS INC\", \"MTZ\" : \"Mastec Inc FLA\", \"XLB\": \"Materials Select Spector SPDR FUND\", \"MCK\": \"MCKESSON Coporation COM\", \"MU\": \"Micron Technology INC\", \"MSFT\": \"Microsoft Corp\", \"NEP\": \"Nextera Energy Partners L COM UNIT LTD Partner Int\", \"NVDA\": \"NVIDIA\", \"R\": \"Ryder System INC\", \"XLE\": \"Sector SPDR Energy\", \"SPG\": \"Simon Property Group DEL REIT\", \"XLF\": \"Secotr SPDR Energy\", \"TSM\" : \"Taiwan S Manufacturing ADR\", \"TGT\": \"Target Corp COM\", \"TXT\": \"Textron INC\", \"TMO\": \"Thermo Fisher Scientific INC\", \"TSCO\": \"Tractor Supply Co\", \"VRTX\": \"Vertex Pharmacudicals\", \"V\": \"Visa INC CL A SHRS\", \"WBA\": \"Walgreens Boots Alliance INC\", \"WSO\": \"Watsco Inc COM\", \"MPLX\": \"MPLX, LP Commons Units REPSTG LTD PARTNER INT\" }"
   ]
  },
  {
   "cell_type": "code",
   "execution_count": 5,
   "metadata": {},
   "outputs": [
    {
     "name": "stdout",
     "output_type": "stream",
     "text": [
      "dict_keys(['990286916', 'MMM', 'ABT', 'ADBE', 'AMT', 'AMGN', 'AAPL', 'AZPN', 'BHVN', 'BXC', 'BMY', 'BEPC', 'CP', 'CSCO', 'C', 'XLY', 'DIS', 'EQIX', 'GM', 'THRM', 'GS', 'GPRE', 'HII', 'MTZ', 'XLB', 'MCK', 'MU', 'MSFT', 'NEP', 'NVDA', 'R', 'XLE', 'SPG', 'XLF', 'TSM', 'TGT', 'TXT', 'TMO', 'TSCO', 'VRTX', 'V', 'WBA', 'WSO', 'MPLX'])\n"
     ]
    }
   ],
   "source": []
  },
  {
   "cell_type": "code",
   "execution_count": null,
   "metadata": {},
   "outputs": [],
   "source": []
  }
 ],
 "metadata": {
  "kernelspec": {
   "display_name": "Python 3",
   "language": "python",
   "name": "python3"
  },
  "language_info": {
   "codemirror_mode": {
    "name": "ipython",
    "version": 3
   },
   "file_extension": ".py",
   "mimetype": "text/x-python",
   "name": "python",
   "nbconvert_exporter": "python",
   "pygments_lexer": "ipython3",
   "version": "3.11.4"
  }
 },
 "nbformat": 4,
 "nbformat_minor": 2
}
