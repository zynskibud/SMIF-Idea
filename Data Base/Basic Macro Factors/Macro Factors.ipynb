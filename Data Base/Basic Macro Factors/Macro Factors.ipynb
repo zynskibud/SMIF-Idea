{
 "cells": [
  {
   "cell_type": "code",
   "execution_count": 1,
   "metadata": {},
   "outputs": [],
   "source": [
    "import pandas as pd\n",
    "import numpy as np\n",
    "import datetime as dt\n",
    "import yfinance as yf\n",
    "import fredapi as fa\n",
    "import requests\n",
    "import json\n",
    "import prettytable\n",
    "import matplotlib.pyplot as plt\n",
    "import seaborn as sns\n"
   ]
  },
  {
   "cell_type": "code",
   "execution_count": 2,
   "metadata": {},
   "outputs": [],
   "source": [
    "fred = fa.Fred(\"e9dded667e8d26a2ac0ea819620521dc\")\n"
   ]
  },
  {
   "cell_type": "code",
   "execution_count": 3,
   "metadata": {},
   "outputs": [],
   "source": [
    "class MacroFactors:\n",
    "    \n",
    "    fred = fa.Fred(\"e9dded667e8d26a2ac0ea819620521dc\")\n",
    "    \n",
    "    def __init__(self) -> None:\n",
    "        self.dict_factors = {}\n",
    "        \n",
    "        #method calls\n",
    "        CCI = self.consumer_confidence_index()\n",
    "        JC = self.jobless_claims()\n",
    "        DGO = self.durable_goods_orders()\n",
    "        GDP = self.GDP()\n",
    "        CPI = self.CPI()\n",
    "        inflation = self.inflation(CPI, 12)\n",
    "        employment_number = self.employment()\n",
    "        unemployment_rate = self.unemployment_rate()\n",
    "        interest_rates = self.interest_rates()\n",
    "        retail_sales = self.retail_sales\n",
    "        PCE = self.PCE()\n",
    "        existing_home_sales = self.existing_home_sales()\n",
    "        self.excel_writer(self.dict_factors)\n",
    "    \n",
    "    def get_FRED_data(self, str_factor):\n",
    "        '''\n",
    "        Code used to retrieve data from the FED.\n",
    "        '''\n",
    "        if type(str_factor) == str:\n",
    "            series_factor = fred.get_series(str_factor)\n",
    "            return series_factor\n",
    "        else:\n",
    "            raise TypeError(\"The input for the macroeconomic factor should be a string\")\n",
    "\n",
    "    def period_to_month(self, column):\n",
    "    # Turns the month values into numbers that can be understood by pandas\n",
    "        if column == \"M01\":\n",
    "            column = 1\n",
    "        if column == \"M02\":\n",
    "            column = 2\n",
    "        if column == \"M03\":\n",
    "            column = 3\n",
    "        if column == \"M04\":\n",
    "            column = 4\n",
    "        if column == \"M05\":\n",
    "            column = 5\n",
    "        if column == \"M06\":\n",
    "            column = 6\n",
    "        if column == \"M07\":\n",
    "            column = 7\n",
    "        if column == \"M08\":\n",
    "            column = 8\n",
    "        if column == \"M09\":\n",
    "            column = 9\n",
    "        if column == \"M10\":\n",
    "            column = 10\n",
    "        if column == \"M11\":\n",
    "            column = 11\n",
    "        if column == \"M12\":\n",
    "            column = 12\n",
    "        \n",
    "        return column\n",
    "\n",
    "    def get_BofL_data(self, str_factor, str_ID, str_start_year, str_end_year): \n",
    "        \"\"\"\n",
    "        Code used to access the Bureau of Labor Statistics API.\n",
    "        Converts the data into a dataframe.\n",
    "        \"\"\"\n",
    "        \n",
    "        if isinstance(str_factor, str) and isinstance(str_ID, str) and isinstance(str_start_year, str) and isinstance(str_end_year, str):\n",
    "            headers = {'Content-type': 'application/json'}\n",
    "            data = json.dumps({\"seriesid\": [str_ID], \"startyear\": str_start_year, \"endyear\":str_end_year, \"registrationkey\": \"38cbbfb1038446378c6e795256489334\"})\n",
    "            p = requests.post('https://api.bls.gov/publicAPI/v2/timeseries/data/', data=data, headers=headers)\n",
    "            json_data = json.loads(p.text)\n",
    "            \n",
    "            for series in json_data['Results']['series']:\n",
    "                x = prettytable.PrettyTable([\"series id\",\"year\",\"period\",\"value\",\"footnotes\"])\n",
    "                seriesId = series['seriesID']\n",
    "                for item in series['data']:\n",
    "                    year = item['year']\n",
    "                    period = item['period']\n",
    "                    value = item['value']\n",
    "                    footnotes=\"\"\n",
    "                    for footnote in item['footnotes']:\n",
    "                        if footnote:\n",
    "                            footnotes = footnotes + footnote['text'] + ','\n",
    "                    if 'M01' <= period <= 'M12':\n",
    "                        x.add_row([seriesId,year,period,value,footnotes[0:-1]])\n",
    "\n",
    "            x_as_csv = x.get_csv_string().replace('\\r','')\n",
    "            text_file = open(f\"{str_factor}.csv\", \"w\")\n",
    "            n = text_file.write(x_as_csv)\n",
    "            text_file.close()\n",
    "            df_x = pd.read_csv(f\"{str_factor}.csv\")\n",
    "            df_factor = df_x.loc[::-1].reset_index(drop=True)\n",
    "            df_factor[\"month\"] = df_factor[\"period\"].apply(self.period_to_month)\n",
    "            df_factor = df_factor.assign(Date=pd.to_datetime(df_factor[['year', 'month']].assign(day=1)))\n",
    "            \n",
    "            return df_factor\n",
    "            \n",
    "        else:\n",
    "            raise TypeError(\"All inputs must be strings\")\n",
    "        \n",
    "    def plot_factor(self, series_factor):\n",
    "        p = plt.plot(series_factor.index, series_factor.values)\n",
    "        return p\n",
    "        \n",
    "    #Leading factors\n",
    "    def consumer_confidence_index(self):\n",
    "        \"\"\"\n",
    "        Get FRED data on consumer confidence index\n",
    "        This number will be delayed by a Month due to data not being available to the public\n",
    "        \"\"\"\n",
    "        series_cci = (self.get_FRED_data('UMCSENT')).dropna()\n",
    "        self.dict_factors['CCI'] = series_cci\n",
    "        display(f\"The most recent calculation of the CCI in the US is {series_cci[-1]}\")\n",
    "        self.plot_factor(series_cci)\n",
    "        return series_cci\n",
    "    \n",
    "    def jobless_claims(self):\n",
    "        \"\"\"\n",
    "        Get FRED data on the number of jobless claims\n",
    "        This number will be delayed by a Month due to data not being available to the public\n",
    "        \"\"\"\n",
    "        series_jc = (self.get_FRED_data('ICSA')).dropna()\n",
    "        self.dict_factors['Jobless Claims'] = series_jc\n",
    "        display(f\"The most recent calculation of the weekly number of jobless claims in the US is {series_jc[-1]}\")\n",
    "        self.plot_factor(series_jc)\n",
    "        return series_jc\n",
    "        \n",
    "    def durable_goods_orders(self):\n",
    "        \"\"\"\n",
    "        Get FRED data on the number of jobless claims\n",
    "        This number will be delayed by a Month due to data not being available to the public\n",
    "        \"\"\"\n",
    "        series_dgo = (self.get_FRED_data('DGORDER')).dropna()\n",
    "        self.dict_factors['Durable Goods Orders'] = series_dgo\n",
    "        display(f\"The most recent calculation of the number of durable goods order in the US is {series_dgo[-1]}\")\n",
    "        self.plot_factor(series_dgo)\n",
    "        return series_dgo\n",
    "    \n",
    "    #Lagging factors\n",
    "    def GDP(self):\n",
    "        \"\"\"\n",
    "        Get FRED data on real GDP\n",
    "        This number will be delayed by a Month due to data not being available to the public\n",
    "        \"\"\"\n",
    "        series_gdp = (self.get_FRED_data('GDP')).dropna()\n",
    "        self.dict_factors['GDP'] = series_gdp\n",
    "        display(f\"The most recent calculation of the GDP in the US is ${series_gdp[-1]*1000000000}\")\n",
    "        self.plot_factor(series_gdp)\n",
    "        return series_gdp\n",
    "    \n",
    "    def CPI(self):\n",
    "        \"\"\"\n",
    "        Get Bureau of Labor Statistics data on CPI\n",
    "        This number will be delayed by a Month due to data not being available to the public\n",
    "        \"\"\"\n",
    "        df_CPI = (self.get_BofL_data('CPI','CUUR0000SA0', '2004', '2023'))\n",
    "        df_CPI = df_CPI[[\"value\", \"Date\"]] \n",
    "        series_CPI = df_CPI.set_index(\"Date\")        \n",
    "        self.dict_factors[\"CPI\"] = df_CPI\n",
    "        display(f\"The most recent calculation of the CPI in the US for all Urban Consumers is {float(series_CPI.iloc[-1])}\")\n",
    "        self.plot_factor(series_CPI)\n",
    "        return series_CPI\n",
    "\n",
    "    def inflation(self, series_CPI, time):\n",
    "        inflation = float(((series_CPI.iloc[-1] - series_CPI.iloc[-(time+1)])) /series_CPI.iloc[-13] * 100)\n",
    "        display(f\"The inflation calculated from the CPI for the last {time} months is {round(inflation,3)} %\")\n",
    "        return inflation\n",
    "        \n",
    "    def employment(self):\n",
    "        \"\"\"\n",
    "        Get Bureau of Labor Statistics data on seasonally adjusted employment\n",
    "        \"\"\"\n",
    "        df_employment_rate = (self.get_BofL_data('Employment Rate', 'LNS12000000', '2005', '2023'))\n",
    "        df_employment_rate = df_employment_rate[[\"value\", \"Date\"]] \n",
    "        series_employment_rate = df_employment_rate.set_index(\"Date\")        \n",
    "        self.dict_factors[\"CPI\"] = df_employment_rate\n",
    "        display(f\"The most recent calculation of the employment numbers in the US is {float(series_employment_rate.iloc[-1])}\")\n",
    "        self.plot_factor(series_employment_rate)\n",
    "    \n",
    "    def unemployment_rate(self):\n",
    "        \"\"\"\n",
    "        Get Bureau of Labor Statistics data on seasonally adjusted unemployment rate\n",
    "        \"\"\"\n",
    "        df_unemployment_rate = (self.get_BofL_data('Unemployment Rate', 'LNS14000000', '2005', '2023'))\n",
    "        df_unemployment_rate = df_unemployment_rate[[\"value\", \"Date\"]] \n",
    "        series_unemployment_rate = df_unemployment_rate.set_index(\"Date\")        \n",
    "        self.dict_factors[\"CPI\"] = df_unemployment_rate\n",
    "        display(f\"The most recent calculation of the unemployment rate in is {float(series_unemployment_rate.iloc[-1])}\")\n",
    "        self.plot_factor(series_unemployment_rate)\n",
    "        return series_unemployment_rate\n",
    "    \n",
    "    #Needs work prob use the yield curve here\n",
    "    def interest_rates(self):\n",
    "        \"\"\"Get FRED data on the Treasury Yield Curve of the 10 year minus 2 Year Treasury Constant Maturity\"\"\"\n",
    "        series_yield_curve = (self.get_FRED_data('T10Y2Y')).dropna()\n",
    "        self.dict_factors[\"Yield Curve\"] = series_yield_curve\n",
    "        display(f\"The most recent calculation of the 10 Year - 2 Year T Bill Maturity is {(series_yield_curve[-1])}\")\n",
    "        self.plot_factor(series_yield_curve)\n",
    "        return series_yield_curve\n",
    "    \n",
    "    def interest_rates(self):\n",
    "        \"\"\"Get FRED data on the Treasury Yield Curve of the 10 year minus 2 Year Treasury Constant Maturity\"\"\"\n",
    "        series_yield_curve = (self.get_FRED_data('T10Y2Y')).dropna()\n",
    "        self.dict_factors[\"Yield Curve\"] = series_yield_curve\n",
    "        display(f\"The most recent calculation of the 10 Year - 2 Year T Bill Maturity is {(series_yield_curve[-1])}\")\n",
    "        self.plot_factor(series_yield_curve)\n",
    "        return series_yield_curve\n",
    "    \n",
    "    def interest_rates(self):\n",
    "        \"\"\"Get FRED data on the Treasury Yield Curve of the 10 year minus 2 Year Treasury Constant Maturity\"\"\"\n",
    "        series_yield_curve = (self.get_FRED_data('T10Y2Y')).dropna()\n",
    "        self.dict_factors[\"Yield Curve\"] = series_yield_curve\n",
    "        display(f\"The most recent calculation of the 10 Year - 2 Year T Bill Maturity is {(series_yield_curve[-1])}\")\n",
    "        self.plot_factor(series_yield_curve)\n",
    "        return series_yield_curve\n",
    "    \n",
    "    def retail_sales(self):\n",
    "        \"\"\"Get FRED data on retail sales\"\"\"\n",
    "        series_retail_sales = (self.get_FRED_data('RSXFS')).dropna()\n",
    "        self.dict_factors[\"Retail Sales\"] = series_retail_sales\n",
    "        display(f\"The most recent calculation of the retail sales in the US is {(series_retail_sales[-1])} people\")\n",
    "        self.plot_factor(series_retail_sales)\n",
    "        return series_retail_sales\n",
    "    \n",
    "    def PCE(self):\n",
    "        \"\"\"Get FRED data on Personal Consumption Expenditures\"\"\"\n",
    "        series_PCE = (self.get_FRED_data('PCE')).dropna()\n",
    "        self.dict_factors[\"PCE\"] = series_PCE\n",
    "        display(f\"The most recent calculation of the Personal Consumption Expenditures in the US is {(series_PCE[-1])} people\")\n",
    "        self.plot_factor(series_PCE)\n",
    "        return series_PCE\n",
    "    \n",
    "    def existing_home_sales(self):\n",
    "        \"\"\"Get FRED data on current home sales\"\"\"\n",
    "        series_existing_home_sales = (self.get_FRED_data('EXHOSLUSM495S')).dropna()\n",
    "        self.dict_factors[\"Existing Home Sales\"] = series_existing_home_sales\n",
    "        display(f\"The most recent calculation of home sales in the US is {(series_existing_home_sales[-1])} people\")\n",
    "        self.plot_factor(series_existing_home_sales)\n",
    "        return series_existing_home_sales\n",
    "    \n",
    "    def excel_writer(self, dict_factors):\n",
    "        writer = pd.ExcelWriter(r\"C:\\Users\\mattp\\Quant Finance\\SMIF\\Data Base\\Basic Macro Factors\\Macroeconomic Factors.xlsx\")\n",
    "        \n",
    "        for key in dict_factors:\n",
    "            new_dataframe = dict_factors[key]\n",
    "            new_dataframe.to_excel(writer, sheet_name=key)\n",
    "        writer.close()\n",
    "    \n",
    "    "
   ]
  },
  {
   "cell_type": "code",
   "execution_count": 4,
   "metadata": {},
   "outputs": [
    {
     "data": {
      "text/plain": [
       "'The most recent calculation of the CCI in the US is 69.7'"
      ]
     },
     "metadata": {},
     "output_type": "display_data"
    },
    {
     "data": {
      "text/plain": [
       "'The most recent calculation of the weekly number of jobless claims in the US is 218000.0'"
      ]
     },
     "metadata": {},
     "output_type": "display_data"
    },
    {
     "data": {
      "text/plain": [
       "'The most recent calculation of the number of durable goods order in the US is 295383.0'"
      ]
     },
     "metadata": {},
     "output_type": "display_data"
    },
    {
     "data": {
      "text/plain": [
       "'The most recent calculation of the GDP in the US is $27938831000000.0'"
      ]
     },
     "metadata": {},
     "output_type": "display_data"
    },
    {
     "name": "stderr",
     "output_type": "stream",
     "text": [
      "C:\\Users\\mattp\\AppData\\Local\\Temp\\ipykernel_25844\\1099047876.py:161: FutureWarning: Calling float on a single element Series is deprecated and will raise a TypeError in the future. Use float(ser.iloc[0]) instead\n",
      "  display(f\"The most recent calculation of the CPI in the US for all Urban Consumers is {float(series_CPI.iloc[-1])}\")\n"
     ]
    },
    {
     "data": {
      "text/plain": [
       "'The most recent calculation of the CPI in the US for all Urban Consumers is 306.746'"
      ]
     },
     "metadata": {},
     "output_type": "display_data"
    },
    {
     "name": "stderr",
     "output_type": "stream",
     "text": [
      "C:\\Users\\mattp\\AppData\\Local\\Temp\\ipykernel_25844\\1099047876.py:167: FutureWarning: Calling float on a single element Series is deprecated and will raise a TypeError in the future. Use float(ser.iloc[0]) instead\n",
      "  inflation = float(((series_CPI.iloc[-1] - series_CPI.iloc[-(time+1)])) /series_CPI.iloc[-13] * 100)\n"
     ]
    },
    {
     "data": {
      "text/plain": [
       "'The inflation calculated from the CPI for the last 12 months is 3.352 %'"
      ]
     },
     "metadata": {},
     "output_type": "display_data"
    },
    {
     "name": "stderr",
     "output_type": "stream",
     "text": [
      "C:\\Users\\mattp\\AppData\\Local\\Temp\\ipykernel_25844\\1099047876.py:179: FutureWarning: Calling float on a single element Series is deprecated and will raise a TypeError in the future. Use float(ser.iloc[0]) instead\n",
      "  display(f\"The most recent calculation of the employment numbers in the US is {float(series_employment_rate.iloc[-1])}\")\n"
     ]
    },
    {
     "data": {
      "text/plain": [
       "'The most recent calculation of the employment numbers in the US is 161183.0'"
      ]
     },
     "metadata": {},
     "output_type": "display_data"
    },
    {
     "name": "stderr",
     "output_type": "stream",
     "text": [
      "C:\\Users\\mattp\\AppData\\Local\\Temp\\ipykernel_25844\\1099047876.py:190: FutureWarning: Calling float on a single element Series is deprecated and will raise a TypeError in the future. Use float(ser.iloc[0]) instead\n",
      "  display(f\"The most recent calculation of the unemployment rate in is {float(series_unemployment_rate.iloc[-1])}\")\n"
     ]
    },
    {
     "data": {
      "text/plain": [
       "'The most recent calculation of the unemployment rate in is 3.7'"
      ]
     },
     "metadata": {},
     "output_type": "display_data"
    },
    {
     "data": {
      "text/plain": [
       "'The most recent calculation of the 10 Year - 2 Year T Bill Maturity is -0.31'"
      ]
     },
     "metadata": {},
     "output_type": "display_data"
    },
    {
     "data": {
      "text/plain": [
       "'The most recent calculation of the Personal Consumption Expenditures in the US is 19001.7 people'"
      ]
     },
     "metadata": {},
     "output_type": "display_data"
    },
    {
     "data": {
      "text/plain": [
       "'The most recent calculation of home sales in the US is 3780000.0 people'"
      ]
     },
     "metadata": {},
     "output_type": "display_data"
    },
    {
     "data": {
      "image/png": "[encoded data removed]",
      "text/plain": [
       "<Figure size 640x480 with 1 Axes>"
      ]
     },
     "metadata": {},
     "output_type": "display_data"
    }
   ],
   "source": [
    "yo = MacroFactors()"
   ]
  },
  {
   "cell_type": "code",
   "execution_count": null,
   "metadata": {},
   "outputs": [],
   "source": []
  }
 ],
 "metadata": {
  "kernelspec": {
   "display_name": "Python 3",
   "language": "python",
   "name": "python3"
  },
  "language_info": {
   "codemirror_mode": {
    "name": "ipython",
    "version": 3
   },
   "file_extension": ".py",
   "mimetype": "text/x-python",
   "name": "python",
   "nbconvert_exporter": "python",
   "pygments_lexer": "ipython3",
   "version": "3.11.4"
  }
 },
 "nbformat": 4,
 "nbformat_minor": 2
}
